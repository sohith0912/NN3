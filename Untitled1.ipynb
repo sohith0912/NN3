{
  "nbformat": 4,
  "nbformat_minor": 0,
  "metadata": {
    "colab": {
      "provenance": []
    },
    "kernelspec": {
      "name": "python3",
      "display_name": "Python 3"
    },
    "language_info": {
      "name": "python"
    }
  },
  "cells": [
    {
      "cell_type": "code",
      "execution_count": 1,
      "metadata": {
        "colab": {
          "base_uri": "https://localhost:8080/"
        },
        "id": "_e55W_SBi0nN",
        "outputId": "326abcec-f3aa-483c-838e-6a3f6f3ca0a5"
      },
      "outputs": [
        {
          "output_type": "stream",
          "name": "stdout",
          "text": [
            "Few benefits as full time employee.\n",
            "Average salary: 190000.0\n"
          ]
        }
      ],
      "source": [
        "class Employee:\n",
        "    \"\"\"\n",
        "    Generic Employee class with name, family, salary and department\n",
        "    \"\"\"\n",
        "\n",
        "    # data member to count the number of Employees\n",
        "    no_of_employees = 0\n",
        "\n",
        "    def __init__(self, name, family_name, salary, department):\n",
        "        self.__name = name\n",
        "        self.__family_name = family_name\n",
        "        self.salary = salary\n",
        "        self.__department = department\n",
        "        Employee.no_of_employees += 1\n",
        "\n",
        "    @staticmethod\n",
        "    def average_salary(employees):\n",
        "        \"\"\"\n",
        "        function to average salary\n",
        "        \"\"\"\n",
        "        sum = 0\n",
        "        for employee in employees:\n",
        "            sum += employee.salary\n",
        "        return sum / Employee.no_of_employees\n",
        "\n",
        "\n",
        "class FulltimeEmployee(Employee):\n",
        "    \"\"\"\n",
        "    Full Time Employee is a sub class of Employee\n",
        "    \"\"\"\n",
        "\n",
        "    def __init__(self, name, family_name, salary, department):\n",
        "        super().__init__(name, family_name, salary, department)\n",
        "\n",
        "    def full_time_benefits(self):\n",
        "        print(\"Few benefits as full time employee.\")\n",
        "\n",
        "\n",
        "def main():\n",
        "    employees = []\n",
        "    fte1 = FulltimeEmployee(\"Employee1\", \"FamilyName1\", 240000, \"Management\")\n",
        "    fte1.full_time_benefits()\n",
        "    employees.append(fte1)\n",
        "    fte2 = FulltimeEmployee(\"Employee2\", \"FamilyName2\", 180000, \"RnD\")\n",
        "    employees.append(fte2)\n",
        "    emp1 = Employee(\"Employee3\", \"FamilyName3\", 200000, \"Marketing\")\n",
        "    employees.append(emp1)\n",
        "    emp2 = Employee(\"Employee4\", \"FamilyName4\", 140000, \"HR\")\n",
        "    employees.append(emp2)\n",
        "    print(\"Average salary:\", FulltimeEmployee.average_salary(employees))\n",
        "\n",
        "\n",
        "if __name__ == \"__main__\":\n",
        "    main()"
      ]
    },
    {
      "cell_type": "code",
      "source": [
        "import numpy as np\n",
        "x = np.random.random(20)\n",
        "print(\"Original array:\")\n",
        "print(x)\n",
        "x[x.argmax()] = -1\n",
        "print(\"Maximum value replaced by 0:\")\n",
        "print(x)\n"
      ],
      "metadata": {
        "colab": {
          "base_uri": "https://localhost:8080/"
        },
        "id": "M1VtdqNYjDyj",
        "outputId": "034f046c-e5b0-4f5e-a1bc-aa40e4501453"
      },
      "execution_count": 2,
      "outputs": [
        {
          "output_type": "stream",
          "name": "stdout",
          "text": [
            "Original array:\n",
            "[0.25886659 0.72165805 0.61447069 0.04225208 0.47848475 0.09810648\n",
            " 0.8227585  0.71781674 0.15673383 0.3072039  0.22419428 0.43353833\n",
            " 0.7380946  0.63610713 0.68322204 0.57556812 0.44468059 0.21613119\n",
            " 0.09070773 0.88808309]\n",
            "Maximum value replaced by 0:\n",
            "[ 0.25886659  0.72165805  0.61447069  0.04225208  0.47848475  0.09810648\n",
            "  0.8227585   0.71781674  0.15673383  0.3072039   0.22419428  0.43353833\n",
            "  0.7380946   0.63610713  0.68322204  0.57556812  0.44468059  0.21613119\n",
            "  0.09070773 -1.        ]\n"
          ]
        }
      ]
    }
  ]
}